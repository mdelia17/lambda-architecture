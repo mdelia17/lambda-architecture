{
 "cells": [
  {
   "cell_type": "markdown",
   "metadata": {},
   "source": [
    "## Notebook per la generazione del dataset"
   ]
  },
  {
   "cell_type": "code",
   "execution_count": null,
   "metadata": {},
   "outputs": [],
   "source": [
    "import pandas as pd"
   ]
  },
  {
   "cell_type": "code",
   "execution_count": null,
   "metadata": {},
   "outputs": [],
   "source": [
    "# i due path corrispondono al dataset di partenza relativo all'intera giornata #\n",
    "\n",
    "dataset = pd.read_csv(\"D:\\Download\\zh3wnddzxy-1\\raw_data/h1.csv\", encoding='latin-1')\n",
    "dataset.drop(dataset.columns[[0,1]], axis=1, inplace=True)\n",
    "for i in range (2,25):\n",
    "    print(i)\n",
    "    tmp = pd.read_csv(\"D:\\Download\\zh3wnddzxy-1\\raw_data/h\"+str(i)+\".csv\", encoding='latin-1')\n",
    "    tmp.drop(tmp.columns[[0,1]], axis=1, inplace=True)\n",
    "    dataset = dataset.append(tmp)\n",
    "dataset"
   ]
  },
  {
   "cell_type": "code",
   "execution_count": null,
   "metadata": {},
   "outputs": [],
   "source": [
    "dataset_size = dataset.shape[0]\n",
    "# dimensione del singolo batch in accordo a quanto discusso nella relazione\n",
    "# e in particolare nella parte di valutazione\n",
    "df_size = 4000"
   ]
  },
  {
   "cell_type": "code",
   "execution_count": null,
   "metadata": {},
   "outputs": [],
   "source": [
    "# calcolo del numero di dataframe che devono essere generati\n",
    "\n",
    "dfs_size = dataset_size//df_size\n",
    "module = dataset_size % df_size\n",
    "print(dfs_size, module)"
   ]
  },
  {
   "cell_type": "code",
   "execution_count": null,
   "metadata": {},
   "outputs": [],
   "source": [
    "dfs = []"
   ]
  },
  {
   "cell_type": "code",
   "execution_count": null,
   "metadata": {},
   "outputs": [],
   "source": [
    "# generazione dei singoli dataframe\n",
    "\n",
    "j=0\n",
    "for i in range(dfs_size):\n",
    "    print(i, (i*df_size), (i+1)*df_size -1)\n",
    "    df = dataset.iloc[(i*df_size):(i+1)*df_size-1,:]\n",
    "    dfs.append(df)\n",
    "    j=i\n",
    "if module != 0:\n",
    "    print(j+1, ((j+1)*df_size), dataset_size-1)\n",
    "    df = dataset.iloc[(j+1)*df_size:dataset_size-1,:]\n",
    "    dfs.append(df)"
   ]
  },
  {
   "cell_type": "code",
   "execution_count": null,
   "metadata": {},
   "outputs": [],
   "source": [
    "# il path corrisponde al path della cartella di input da cui lo script start-producer.sh \n",
    "# copia i singoli file ad ogni intervallo temporale sulla cartella su cui il produttore FilePulse è in ascolto\n",
    "\n",
    "for i in range(len(dfs)):\n",
    "    s = \"dataset/data\"+str(i)+\".csv\"\n",
    "    print(s)\n",
    "    dfs[i].to_csv(s, index=False, header=False, encoding='utf8')"
   ]
  },
  {
   "cell_type": "code",
   "execution_count": null,
   "metadata": {},
   "outputs": [],
   "source": []
  }
 ],
 "metadata": {
  "kernelspec": {
   "display_name": "Python 3",
   "language": "python",
   "name": "python3"
  },
  "language_info": {
   "codemirror_mode": {
    "name": "ipython",
    "version": 3
   },
   "file_extension": ".py",
   "mimetype": "text/x-python",
   "name": "python",
   "nbconvert_exporter": "python",
   "pygments_lexer": "ipython3",
   "version": "3.8.3"
  }
 },
 "nbformat": 4,
 "nbformat_minor": 4
}
